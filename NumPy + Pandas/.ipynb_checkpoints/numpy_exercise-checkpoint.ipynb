{
 "cells": [
  {
   "cell_type": "code",
   "execution_count": 2,
   "metadata": {},
   "outputs": [],
   "source": [
    "import numpy as np"
   ]
  },
  {
   "cell_type": "markdown",
   "metadata": {},
   "source": [
    "# Numpy Basics"
   ]
  },
  {
   "cell_type": "code",
   "execution_count": 3,
   "metadata": {},
   "outputs": [
    {
     "name": "stdout",
     "output_type": "stream",
     "text": [
      "1.26.2\n",
      "Build Dependencies:\n",
      "  blas:\n",
      "    detection method: pkgconfig\n",
      "    found: true\n",
      "    include directory: /c/opt/64/include\n",
      "    lib directory: /c/opt/64/lib\n",
      "    name: openblas64\n",
      "    openblas configuration: USE_64BITINT=1 DYNAMIC_ARCH=1 DYNAMIC_OLDER= NO_CBLAS=\n",
      "      NO_LAPACK= NO_LAPACKE= NO_AFFINITY=1 USE_OPENMP= SKYLAKEX MAX_THREADS=2\n",
      "    pc file directory: C:/opt/64/lib/pkgconfig\n",
      "    version: 0.3.23.dev\n",
      "  lapack:\n",
      "    detection method: internal\n",
      "    found: true\n",
      "    include directory: unknown\n",
      "    lib directory: unknown\n",
      "    name: dep1519489905472\n",
      "    openblas configuration: unknown\n",
      "    pc file directory: unknown\n",
      "    version: 1.26.2\n",
      "Compilers:\n",
      "  c:\n",
      "    commands: cl\n",
      "    linker: link\n",
      "    name: msvc\n",
      "    version: 19.29.30152\n",
      "  c++:\n",
      "    commands: cl\n",
      "    linker: link\n",
      "    name: msvc\n",
      "    version: 19.29.30152\n",
      "  cython:\n",
      "    commands: cython\n",
      "    linker: cython\n",
      "    name: cython\n",
      "    version: 3.0.5\n",
      "Machine Information:\n",
      "  build:\n",
      "    cpu: x86_64\n",
      "    endian: little\n",
      "    family: x86_64\n",
      "    system: windows\n",
      "  host:\n",
      "    cpu: x86_64\n",
      "    endian: little\n",
      "    family: x86_64\n",
      "    system: windows\n",
      "Python Information:\n",
      "  path: C:\\Users\\runneradmin\\AppData\\Local\\Temp\\cibw-run-4yihigg1\\cp310-win_amd64\\build\\venv\\Scripts\\python.exe\n",
      "  version: '3.10'\n",
      "SIMD Extensions:\n",
      "  baseline:\n",
      "  - SSE\n",
      "  - SSE2\n",
      "  - SSE3\n",
      "  found:\n",
      "  - SSSE3\n",
      "  - SSE41\n",
      "  - POPCNT\n",
      "  - SSE42\n",
      "  - AVX\n",
      "  - F16C\n",
      "  - FMA3\n",
      "  - AVX2\n",
      "  not found:\n",
      "  - AVX512F\n",
      "  - AVX512CD\n",
      "  - AVX512_SKX\n",
      "  - AVX512_CLX\n",
      "  - AVX512_CNL\n",
      "  - AVX512_ICL\n",
      "\n",
      "None\n"
     ]
    }
   ],
   "source": [
    "#1. Write a Numpy program to get the Numpy version and show the Numpy build configuration.\n",
    "print(np.__version__)\n",
    "print(np.show_config())"
   ]
  },
  {
   "cell_type": "code",
   "execution_count": 4,
   "metadata": {},
   "outputs": [
    {
     "name": "stdout",
     "output_type": "stream",
     "text": [
      "add(x1, x2, /, out=None, *, where=True, casting='same_kind', order='K', dtype=None, subok=True[, signature, extobj])\n",
      "\n",
      "Add arguments element-wise.\n",
      "\n",
      "Parameters\n",
      "----------\n",
      "x1, x2 : array_like\n",
      "    The arrays to be added.\n",
      "    If ``x1.shape != x2.shape``, they must be broadcastable to a common\n",
      "    shape (which becomes the shape of the output).\n",
      "out : ndarray, None, or tuple of ndarray and None, optional\n",
      "    A location into which the result is stored. If provided, it must have\n",
      "    a shape that the inputs broadcast to. If not provided or None,\n",
      "    a freshly-allocated array is returned. A tuple (possible only as a\n",
      "    keyword argument) must have length equal to the number of outputs.\n",
      "where : array_like, optional\n",
      "    This condition is broadcast over the input. At locations where the\n",
      "    condition is True, the `out` array will be set to the ufunc result.\n",
      "    Elsewhere, the `out` array will retain its original value.\n",
      "    Note that if an uninitialized `out` array is created via the default\n",
      "    ``out=None``, locations within it where the condition is False will\n",
      "    remain uninitialized.\n",
      "**kwargs\n",
      "    For other keyword-only arguments, see the\n",
      "    :ref:`ufunc docs <ufuncs.kwargs>`.\n",
      "\n",
      "Returns\n",
      "-------\n",
      "add : ndarray or scalar\n",
      "    The sum of `x1` and `x2`, element-wise.\n",
      "    This is a scalar if both `x1` and `x2` are scalars.\n",
      "\n",
      "Notes\n",
      "-----\n",
      "Equivalent to `x1` + `x2` in terms of array broadcasting.\n",
      "\n",
      "Examples\n",
      "--------\n",
      ">>> np.add(1.0, 4.0)\n",
      "5.0\n",
      ">>> x1 = np.arange(9.0).reshape((3, 3))\n",
      ">>> x2 = np.arange(3.0)\n",
      ">>> np.add(x1, x2)\n",
      "array([[  0.,   2.,   4.],\n",
      "       [  3.,   5.,   7.],\n",
      "       [  6.,   8.,  10.]])\n",
      "\n",
      "The ``+`` operator can be used as a shorthand for ``np.add`` on ndarrays.\n",
      "\n",
      ">>> x1 = np.arange(9.0).reshape((3, 3))\n",
      ">>> x2 = np.arange(3.0)\n",
      ">>> x1 + x2\n",
      "array([[ 0.,  2.,  4.],\n",
      "       [ 3.,  5.,  7.],\n",
      "       [ 6.,  8., 10.]])\n",
      "None\n"
     ]
    }
   ],
   "source": [
    "#2. Write a NumPy program to get help with the add function.\n",
    "print(np.info(np.add))"
   ]
  },
  {
   "cell_type": "code",
   "execution_count": 5,
   "metadata": {},
   "outputs": [
    {
     "name": "stdout",
     "output_type": "stream",
     "text": [
      "[1 2 3 4]\n",
      "True\n",
      "[0 2 3 4]\n",
      "False\n"
     ]
    }
   ],
   "source": [
    "#3. Write a NumPy program to test whether none of the elements of a given array are zero. \n",
    "x = np.array([1,2,3,4])\n",
    "print(x)\n",
    "print(np.all(x))\n",
    "\n",
    "x = np.array([0,2,3,4])\n",
    "print(x)\n",
    "print(np.all(x))"
   ]
  },
  {
   "cell_type": "code",
   "execution_count": 6,
   "metadata": {},
   "outputs": [
    {
     "name": "stdout",
     "output_type": "stream",
     "text": [
      "[0 0 0 0]\n",
      "False\n",
      "[0 2 3 4]\n",
      "True\n"
     ]
    }
   ],
   "source": [
    "#4. Write a NumPy program to test if any of the elements of a given array are non-zero. \n",
    "x = np.array([0,0,0,0])\n",
    "print(x)\n",
    "print(np.any(x))\n",
    "\n",
    "x = np.array([0,2,3,4])\n",
    "print(x)\n",
    "print(np.any(x))"
   ]
  },
  {
   "cell_type": "code",
   "execution_count": 7,
   "metadata": {},
   "outputs": [
    {
     "name": "stdout",
     "output_type": "stream",
     "text": [
      "[ 1.  2. nan inf]\n",
      "[False False False  True]\n"
     ]
    }
   ],
   "source": [
    "#5. Write a NumPy program to test a given array element-wise for finiteness (not infinity or not a number).\n",
    "x = np.array([1,2,np.nan,np.inf])\n",
    "print(x)\n",
    "print(np.isinf(x))"
   ]
  },
  {
   "cell_type": "code",
   "execution_count": 8,
   "metadata": {},
   "outputs": [
    {
     "name": "stdout",
     "output_type": "stream",
     "text": [
      "[  1.   2. -inf  inf]\n",
      "[False False  True  True]\n"
     ]
    }
   ],
   "source": [
    "#6. Write a NumPy program to test elements-wise for positive or negative infinity. \n",
    "x = np.array([1,2,-np.inf,np.inf])\n",
    "print(x)\n",
    "print(np.isinf(x))"
   ]
  },
  {
   "cell_type": "code",
   "execution_count": 9,
   "metadata": {},
   "outputs": [
    {
     "name": "stdout",
     "output_type": "stream",
     "text": [
      "[ 1.  2. nan  4.]\n",
      "[False False  True False]\n"
     ]
    }
   ],
   "source": [
    "#7. Write a NumPy program to test element-wise for NaN of a given array.\n",
    "x = np.array([1,2,np.nan,4])\n",
    "print(x)\n",
    "print(np.isnan(x))"
   ]
  },
  {
   "cell_type": "code",
   "execution_count": 10,
   "metadata": {},
   "outputs": [
    {
     "name": "stdout",
     "output_type": "stream",
     "text": [
      "[1. +1.j 1. +0.j 0.5+0.j]\n",
      "[ True False False]\n",
      "[False  True  True]\n",
      "True\n",
      "False\n"
     ]
    }
   ],
   "source": [
    "#8. Write a NumPy program to test element-wise for complex numbers, real numbers in a given array. Also test if a given number is of a scalar type or not. \n",
    "x = np.array([1 + 1j, 1, 0.5])\n",
    "print(x)\n",
    "print(np.iscomplex(x))\n",
    "print(np.isreal(x))\n",
    "print(np.isscalar(1.2))\n",
    "print(np.isscalar([1.2]))"
   ]
  },
  {
   "cell_type": "code",
   "execution_count": 11,
   "metadata": {},
   "outputs": [
    {
     "name": "stdout",
     "output_type": "stream",
     "text": [
      "False\n",
      "True\n"
     ]
    }
   ],
   "source": [
    "#9. Write a NumPy program to test whether two arrays are element-wise equal within a tolerance.\n",
    "a = np.array([1e10, 1e-7])\n",
    "b = np.array([1.00001e10, 1e-8])\n",
    "c = np.array([1.00001e10, 1.00001e-7])\n",
    "print(np.allclose(a,b))\n",
    "print(np.allclose(a,c))"
   ]
  },
  {
   "cell_type": "code",
   "execution_count": 12,
   "metadata": {},
   "outputs": [
    {
     "name": "stdout",
     "output_type": "stream",
     "text": [
      "[False False  True]\n",
      "[False  True  True]\n",
      "[ True False False]\n",
      "[ True  True False]\n"
     ]
    }
   ],
   "source": [
    "#10. Write a NumPy program to create an element-wise comparison (greater, greater_equal, less and less_equal) of two given arrays.\n",
    "x = np.array([1,2,3])\n",
    "y = np.array([2,2,2])\n",
    "print(np.greater(x,y))\n",
    "print(np.greater_equal(x,y))\n",
    "print(np.less(x,y))\n",
    "print(np.less_equal(x,y))"
   ]
  },
  {
   "cell_type": "code",
   "execution_count": 13,
   "metadata": {},
   "outputs": [
    {
     "name": "stdout",
     "output_type": "stream",
     "text": [
      "[False  True False]\n",
      "False\n"
     ]
    }
   ],
   "source": [
    "#11. Write a NumPy program to create an element-wise comparison (equal, equal within a tolerance) of two given arrays.\n",
    "x = np.array([1,2,3])\n",
    "y = np.array([2,2,2])\n",
    "print(np.equal(x,y))\n",
    "print(np.allclose(x,y))"
   ]
  },
  {
   "cell_type": "code",
   "execution_count": 14,
   "metadata": {},
   "outputs": [
    {
     "name": "stdout",
     "output_type": "stream",
     "text": [
      "[  1   7  13 105]\n",
      "16\n"
     ]
    }
   ],
   "source": [
    "#12. Write a NumPy program to create an array with the values 1, 7, 13, 105 and determine the size of the memory occupied by the array.\n",
    "x = np.array([1,7,13,105])\n",
    "print(x)\n",
    "print(x.size * x.itemsize)"
   ]
  },
  {
   "cell_type": "code",
   "execution_count": 15,
   "metadata": {},
   "outputs": [
    {
     "name": "stdout",
     "output_type": "stream",
     "text": [
      "[0. 0. 0. 0. 0. 0. 0. 0. 0. 0.]\n",
      "[1. 1. 1. 1. 1. 1. 1. 1. 1. 1.]\n",
      "[5. 5. 5. 5. 5. 5. 5. 5. 5. 5.]\n"
     ]
    }
   ],
   "source": [
    "#13. Write a NumPy program to create an array of 10 zeros, 10 ones, and 10 fives. \n",
    "x = np.zeros(10)\n",
    "y = np.ones(10)\n",
    "z = np.ones(10) * 5\n",
    "print(x)\n",
    "print(y)\n",
    "print(z)"
   ]
  },
  {
   "cell_type": "code",
   "execution_count": 16,
   "metadata": {},
   "outputs": [
    {
     "name": "stdout",
     "output_type": "stream",
     "text": [
      "[30 31 32 33 34 35 36 37 38 39 40 41 42 43 44 45 46 47 48 49 50 51 52 53\n",
      " 54 55 56 57 58 59 60 61 62 63 64 65 66 67 68 69 70]\n"
     ]
    }
   ],
   "source": [
    "#14. Write a NumPy program to create an array of integers from 30 to 70.\n",
    "x = np.arange(30,71)\n",
    "print(x)"
   ]
  },
  {
   "cell_type": "code",
   "execution_count": 17,
   "metadata": {},
   "outputs": [
    {
     "name": "stdout",
     "output_type": "stream",
     "text": [
      "[30 32 34 36 38 40 42 44 46 48 50 52 54 56 58 60 62 64 66 68 70]\n"
     ]
    }
   ],
   "source": [
    "#15.Write a NumPy program to create an array of all even integers from 30 to 70.\n",
    "x = np.arange(30, 71, 2)\n",
    "print(x)"
   ]
  },
  {
   "cell_type": "code",
   "execution_count": 18,
   "metadata": {},
   "outputs": [
    {
     "name": "stdout",
     "output_type": "stream",
     "text": [
      "[[1. 0. 0.]\n",
      " [0. 1. 0.]\n",
      " [0. 0. 1.]]\n"
     ]
    }
   ],
   "source": [
    "#16. Write a NumPy program to create a 3x3 identity matrix.\n",
    "x = np.identity(3)\n",
    "print(x)"
   ]
  },
  {
   "cell_type": "code",
   "execution_count": 19,
   "metadata": {},
   "outputs": [
    {
     "name": "stdout",
     "output_type": "stream",
     "text": [
      "0.6115029629260218\n"
     ]
    }
   ],
   "source": [
    "#17. Write a NumPy program to generate a random number between 0 and 1.\n",
    "x = np.random.rand()\n",
    "print(x)"
   ]
  },
  {
   "cell_type": "code",
   "execution_count": 20,
   "metadata": {},
   "outputs": [
    {
     "name": "stdout",
     "output_type": "stream",
     "text": [
      "[ 0.28946155  0.17977042 -0.9838325  -0.22753454 -0.30067558 -0.87331901\n",
      " -1.27260203  0.95792483 -0.3988304   0.29649807 -2.44595869 -1.02847974\n",
      "  0.06192383 -0.21830393 -0.38143746]\n"
     ]
    }
   ],
   "source": [
    "#18. Write a NumPy program to generate an array of 15 random numbers from a standard normal distribution.\n",
    "x = np.random.normal(size=15)\n",
    "print(x)"
   ]
  },
  {
   "cell_type": "code",
   "execution_count": 21,
   "metadata": {},
   "outputs": [
    {
     "name": "stdout",
     "output_type": "stream",
     "text": [
      "[16 17 18 19 20 21 22 23 24 25 26 27 28 29 30 31 32 33 34 35 36 37 38 39\n",
      " 40 41 42 43 44 45 46 47 48 49 50 51 52 53]\n"
     ]
    }
   ],
   "source": [
    "#19. Write a NumPy program to create a vector with values ranging from 15 to 55 and print all values except the first and last.\n",
    "x = np.arange(15,55)\n",
    "print(x[1:-1])"
   ]
  },
  {
   "cell_type": "code",
   "execution_count": 22,
   "metadata": {},
   "outputs": [
    {
     "name": "stdout",
     "output_type": "stream",
     "text": [
      "1.0\n",
      "1.0\n",
      "1.0\n",
      "1.0\n",
      "1.0\n",
      "1.0\n",
      "1.0\n",
      "1.0\n",
      "1.0\n",
      "1.0\n",
      "1.0\n",
      "1.0\n"
     ]
    }
   ],
   "source": [
    "#20. Write a NumPy program to create a 3X4 array and iterate over it.\n",
    "x = np.ones((3,4))\n",
    "for i in np.nditer(x):\n",
    "    print(i)"
   ]
  },
  {
   "cell_type": "code",
   "execution_count": 23,
   "metadata": {},
   "outputs": [
    {
     "name": "stdout",
     "output_type": "stream",
     "text": [
      "[ 5. 10. 15. 20. 25. 30. 35. 40. 45. 50.]\n"
     ]
    }
   ],
   "source": [
    "#21. Write a NumPy program to create a vector of length 10 with values evenly distributed between 5 and 50.\n",
    "x = np.linspace(5,50,10)\n",
    "print(x)"
   ]
  },
  {
   "cell_type": "code",
   "execution_count": 24,
   "metadata": {},
   "outputs": [
    {
     "name": "stdout",
     "output_type": "stream",
     "text": [
      "[  0   1   2   3   4   5   6   7   8  -9 -10 -11 -12 -13 -14 -15  16  17\n",
      "  18  19  20]\n"
     ]
    }
   ],
   "source": [
    "#22. Write a NumPy program to create a vector with values from 0 to 20 and change the sign of the numbers in the range from 9 to 15.\n",
    "x = np.arange(0, 21)\n",
    "x[(x >= 9) & (x <= 15)] *= -1\n",
    "print(x)"
   ]
  },
  {
   "cell_type": "code",
   "execution_count": 25,
   "metadata": {},
   "outputs": [
    {
     "name": "stdout",
     "output_type": "stream",
     "text": [
      "[7 9 1 3 4]\n"
     ]
    }
   ],
   "source": [
    "#23. Write a NumPy program to create a vector of length 5 filled with arbitrary integers from 0 to 10.\n",
    "x = np.random.randint(0, 11, 5)\n",
    "print(x)"
   ]
  },
  {
   "cell_type": "code",
   "execution_count": 26,
   "metadata": {},
   "outputs": [
    {
     "name": "stdout",
     "output_type": "stream",
     "text": [
      "[ 2 16  6]\n",
      "[ 2 16  6]\n"
     ]
    }
   ],
   "source": [
    "#24. Write a NumPy program to multiply the values of two given vectors.\n",
    "x = np.array([1, 8, 3])\n",
    "y = np.array([2, 2, 2])\n",
    "print(np.multiply(x, y))\n",
    "print(x*y)"
   ]
  },
  {
   "cell_type": "code",
   "execution_count": 27,
   "metadata": {},
   "outputs": [
    {
     "name": "stdout",
     "output_type": "stream",
     "text": [
      "[[10 11 12 13]\n",
      " [14 15 16 17]\n",
      " [18 19 20 21]]\n"
     ]
    }
   ],
   "source": [
    "#25. Write a NumPy program to create a 3x4 matrix filled with values from 10 to 21.\n",
    "x = np.arange(10, 22).reshape((3, 4))\n",
    "print(x)"
   ]
  },
  {
   "cell_type": "code",
   "execution_count": 28,
   "metadata": {},
   "outputs": [
    {
     "name": "stdout",
     "output_type": "stream",
     "text": [
      "(3, 4)\n"
     ]
    }
   ],
   "source": [
    "#26. Write a NumPy program to find the number of rows and columns in a given matrix.\n",
    "x = np.array([[1, 2, 3, 4], \n",
    "              [5, 6, 7, 8], \n",
    "              [9, 10, 11, 12]])\n",
    "print(x.shape)"
   ]
  },
  {
   "cell_type": "code",
   "execution_count": 29,
   "metadata": {},
   "outputs": [
    {
     "name": "stdout",
     "output_type": "stream",
     "text": [
      "[[1. 0. 0.]\n",
      " [0. 1. 0.]\n",
      " [0. 0. 1.]]\n"
     ]
    }
   ],
   "source": [
    "#27. Write a NumPy program to create a 3x3 identity matrix, i.e. the diagonal elements are 1, the rest are 0.\n",
    "x = np.identity(3)\n",
    "print(x)"
   ]
  },
  {
   "cell_type": "code",
   "execution_count": 30,
   "metadata": {},
   "outputs": [
    {
     "name": "stdout",
     "output_type": "stream",
     "text": [
      "[[1. 1. 1. 1. 1. 1. 1. 1. 1. 1.]\n",
      " [1. 0. 0. 0. 0. 0. 0. 0. 0. 1.]\n",
      " [1. 0. 0. 0. 0. 0. 0. 0. 0. 1.]\n",
      " [1. 0. 0. 0. 0. 0. 0. 0. 0. 1.]\n",
      " [1. 0. 0. 0. 0. 0. 0. 0. 0. 1.]\n",
      " [1. 0. 0. 0. 0. 0. 0. 0. 0. 1.]\n",
      " [1. 0. 0. 0. 0. 0. 0. 0. 0. 1.]\n",
      " [1. 0. 0. 0. 0. 0. 0. 0. 0. 1.]\n",
      " [1. 0. 0. 0. 0. 0. 0. 0. 0. 1.]\n",
      " [1. 1. 1. 1. 1. 1. 1. 1. 1. 1.]]\n"
     ]
    }
   ],
   "source": [
    "#28. Write a NumPy program to create a 10x10 matrix, in which the elements on the borders will be equal to 1, and inside 0.\n",
    "x = np.ones((10, 10))\n",
    "x[1:-1, 1:-1] = 0\n",
    "print(x)"
   ]
  },
  {
   "cell_type": "code",
   "execution_count": 31,
   "metadata": {},
   "outputs": [
    {
     "name": "stdout",
     "output_type": "stream",
     "text": [
      "[[1 0 0 0 0]\n",
      " [0 2 0 0 0]\n",
      " [0 0 3 0 0]\n",
      " [0 0 0 4 0]\n",
      " [0 0 0 0 5]]\n"
     ]
    }
   ],
   "source": [
    "#29. Write a NumPy program to create a 5x5 zero matrix with elements on the main diagonal equal to 1, 2, 3, 4, 5.\n",
    "x = np.diag(np.arange(1, 6))\n",
    "print(x)"
   ]
  },
  {
   "cell_type": "code",
   "execution_count": 32,
   "metadata": {},
   "outputs": [
    {
     "name": "stdout",
     "output_type": "stream",
     "text": [
      "[[0. 1. 0. 1.]\n",
      " [1. 0. 1. 0.]\n",
      " [0. 1. 0. 1.]\n",
      " [1. 0. 1. 0.]]\n"
     ]
    }
   ],
   "source": [
    "#30. Write a NumPy program to create a 4x4 matrix in which 0 and 1 are staggered, with zeros on the main diagonal.\n",
    "x = np.zeros((4, 4))\n",
    "x[::2, 1::2] = 1\n",
    "x[1::2, ::2] = 1\n",
    "print(x)"
   ]
  },
  {
   "cell_type": "code",
   "execution_count": 33,
   "metadata": {},
   "outputs": [
    {
     "name": "stdout",
     "output_type": "stream",
     "text": [
      "[[[0.43231574 0.97565476 0.98129338]\n",
      "  [0.85919468 0.88944384 0.25496096]\n",
      "  [0.9417753  0.96616881 0.49356601]]\n",
      "\n",
      " [[0.67657078 0.41871269 0.70512029]\n",
      "  [0.13779553 0.84868318 0.5306472 ]\n",
      "  [0.74161174 0.33021135 0.82733079]]\n",
      "\n",
      " [[0.22622777 0.88428274 0.47867207]\n",
      "  [0.36791918 0.26655023 0.23333677]\n",
      "  [0.66940315 0.33672857 0.19577732]]]\n"
     ]
    }
   ],
   "source": [
    "#31. Write a NumPy program to create a 3x3x3 array filled with arbitrary values.\n",
    "x = np.random.random((3, 3, 3))\n",
    "print(x)"
   ]
  },
  {
   "cell_type": "markdown",
   "metadata": {},
   "source": [
    "# NumPy Array"
   ]
  },
  {
   "cell_type": "code",
   "execution_count": 34,
   "metadata": {},
   "outputs": [
    {
     "name": "stdout",
     "output_type": "stream",
     "text": [
      "[1 2 3 4]\n"
     ]
    }
   ],
   "source": [
    "#2. Write a NumPy program to convert a list of numeric values into a one-dimensional NumPy array.\n",
    "a = [1, 2, 3, 4]\n",
    "x = np.array(a)\n",
    "print(x)"
   ]
  },
  {
   "cell_type": "code",
   "execution_count": 35,
   "metadata": {},
   "outputs": [
    {
     "name": "stdout",
     "output_type": "stream",
     "text": [
      "[[ 2  3  4]\n",
      " [ 5  6  7]\n",
      " [ 8  9 10]]\n"
     ]
    }
   ],
   "source": [
    "#3.Write a NumPy program to create a 3x3 matrix with values ranging from 2 to 10.\n",
    "x = np.arange(2, 11).reshape(3, 3)\n",
    "print(x)"
   ]
  },
  {
   "cell_type": "code",
   "execution_count": 36,
   "metadata": {},
   "outputs": [
    {
     "name": "stdout",
     "output_type": "stream",
     "text": [
      "[ 0.  0.  0.  0.  0. 11.  0.  0.  0.  0.]\n"
     ]
    }
   ],
   "source": [
    "#4. Write a NumPy program to create a null vector of size 10 and update the sixth value to 11.\n",
    "x = np.zeros(10)\n",
    "x[5] = 11\n",
    "print(x)"
   ]
  },
  {
   "cell_type": "code",
   "execution_count": 37,
   "metadata": {},
   "outputs": [
    {
     "name": "stdout",
     "output_type": "stream",
     "text": [
      "[12 13 14 15 16 17 18 19 20 21 22 23 24 25 26 27 28 29 30 31 32 33 34 35\n",
      " 36 37 38]\n"
     ]
    }
   ],
   "source": [
    "#5. Write a NumPy program to create an array with values ranging from 12 to 38.\n",
    "x = np.arange(12, 39)\n",
    "print(x)"
   ]
  },
  {
   "cell_type": "code",
   "execution_count": 38,
   "metadata": {},
   "outputs": [
    {
     "name": "stdout",
     "output_type": "stream",
     "text": [
      "[38 37 36 35 34 33 32 31 30 29 28 27 26 25 24 23 22 21 20 19 18 17 16 15\n",
      " 14 13 12]\n"
     ]
    }
   ],
   "source": [
    "#6. Write a NumPy program to reverse an array (the first element becomes the last).\n",
    "x = np.arange(12, 39)\n",
    "x = np.flip(x)\n",
    "print(x)"
   ]
  },
  {
   "cell_type": "code",
   "execution_count": 39,
   "metadata": {},
   "outputs": [
    {
     "name": "stdout",
     "output_type": "stream",
     "text": [
      "[1. 2. 3. 4.]\n"
     ]
    }
   ],
   "source": [
    "#7. Write a NumPy program to convert an array to a floating type.\n",
    "x = np.array([1, 2, 3, 4])\n",
    "x = np.asfarray(x)\n",
    "print(x)"
   ]
  },
  {
   "cell_type": "code",
   "execution_count": 40,
   "metadata": {},
   "outputs": [
    {
     "name": "stdout",
     "output_type": "stream",
     "text": [
      "[[1. 1. 1. 1. 1.]\n",
      " [1. 0. 0. 0. 1.]\n",
      " [1. 0. 0. 0. 1.]\n",
      " [1. 0. 0. 0. 1.]\n",
      " [1. 1. 1. 1. 1.]]\n"
     ]
    }
   ],
   "source": [
    "#8. Write a NumPy program to create a 2D array with 1 on the border and 0 inside.\n",
    "x = np.ones((5, 5))\n",
    "x[1:-1, 1:-1] = 0\n",
    "print(x)"
   ]
  },
  {
   "cell_type": "code",
   "execution_count": 41,
   "metadata": {},
   "outputs": [
    {
     "name": "stdout",
     "output_type": "stream",
     "text": [
      "[[0. 0. 0. 0. 0.]\n",
      " [0. 1. 1. 1. 0.]\n",
      " [0. 1. 1. 1. 0.]\n",
      " [0. 1. 1. 1. 0.]\n",
      " [0. 0. 0. 0. 0.]]\n"
     ]
    }
   ],
   "source": [
    "#9. Write a NumPy program to add a border (filled with 0's) around an existing array.\n",
    "x = np.ones((3, 3))\n",
    "x = np.pad(x, pad_width=1, mode='constant', constant_values=0)\n",
    "print(x)"
   ]
  },
  {
   "cell_type": "code",
   "execution_count": 42,
   "metadata": {},
   "outputs": [
    {
     "name": "stdout",
     "output_type": "stream",
     "text": [
      "[[0. 1. 0. 1. 0. 1. 0. 1.]\n",
      " [1. 0. 1. 0. 1. 0. 1. 0.]\n",
      " [0. 1. 0. 1. 0. 1. 0. 1.]\n",
      " [1. 0. 1. 0. 1. 0. 1. 0.]\n",
      " [0. 1. 0. 1. 0. 1. 0. 1.]\n",
      " [1. 0. 1. 0. 1. 0. 1. 0.]\n",
      " [0. 1. 0. 1. 0. 1. 0. 1.]\n",
      " [1. 0. 1. 0. 1. 0. 1. 0.]]\n"
     ]
    }
   ],
   "source": [
    "#10. Write a NumPy program to create an 8x8 matrix and fill it with a checkerboard pattern.\n",
    "x = np.zeros((8,8))\n",
    "x[1::2, ::2] = 1\n",
    "x[0::2, 1::2] = 1\n",
    "print(x)"
   ]
  },
  {
   "cell_type": "markdown",
   "metadata": {},
   "source": [
    "# NumPy Linear Algebra"
   ]
  },
  {
   "cell_type": "code",
   "execution_count": 43,
   "metadata": {},
   "outputs": [
    {
     "name": "stdout",
     "output_type": "stream",
     "text": [
      "[[3 1]\n",
      " [5 3]]\n"
     ]
    }
   ],
   "source": [
    "# 1. Write a NumPy program to compute the multiplication of two given matrixes.\n",
    "x = np.array([[1, 0], [1, 1]])\n",
    "y = np.array([[3, 1], [2, 2]])\n",
    "print(np.dot(x, y))"
   ]
  },
  {
   "cell_type": "code",
   "execution_count": 44,
   "metadata": {},
   "outputs": [
    {
     "name": "stdout",
     "output_type": "stream",
     "text": [
      "[[3 1 2 2]\n",
      " [0 0 0 0]\n",
      " [3 1 2 2]\n",
      " [3 1 2 2]]\n"
     ]
    }
   ],
   "source": [
    "#2. Write a NumPy program to compute the outer product of two given vectors.\n",
    "x = np.array([[1, 0], [1, 1]])\n",
    "y = np.array([[3, 1], [2, 2]])\n",
    "print(np.outer(x, y))"
   ]
  },
  {
   "cell_type": "code",
   "execution_count": 45,
   "metadata": {},
   "outputs": [
    {
     "name": "stdout",
     "output_type": "stream",
     "text": [
      "[1 0]\n"
     ]
    }
   ],
   "source": [
    "#3. Write a NumPy program to compute the cross product of two given vectors.\n",
    "x = np.array([[1, 0], [1, 1]])\n",
    "y = np.array([[3, 1], [2, 2]])\n",
    "print(np.cross(x, y))"
   ]
  },
  {
   "cell_type": "code",
   "execution_count": 46,
   "metadata": {},
   "outputs": [
    {
     "name": "stdout",
     "output_type": "stream",
     "text": [
      "1.0\n"
     ]
    }
   ],
   "source": [
    "#4. Write a NumPy program to compute the determinant of a given square array.\n",
    "x = np.array([[1, 0], [1, 1]])\n",
    "print(np.linalg.det(x))"
   ]
  },
  {
   "cell_type": "code",
   "execution_count": 47,
   "metadata": {},
   "outputs": [
    {
     "name": "stdout",
     "output_type": "stream",
     "text": [
      "[[3 1]\n",
      " [5 3]]\n"
     ]
    }
   ],
   "source": [
    "#5. Write a NumPy program to evaluate Einstein's summation convention of two given multidimensional arrays.\n",
    "x = np.array([[1, 0], [1, 1]])\n",
    "y = np.array([[3, 1], [2, 2]])\n",
    "print(np.einsum(\"mk,kn\", x, y))"
   ]
  },
  {
   "cell_type": "code",
   "execution_count": 48,
   "metadata": {},
   "outputs": [
    {
     "name": "stdout",
     "output_type": "stream",
     "text": [
      "7\n",
      "[[3 2]\n",
      " [4 4]]\n"
     ]
    }
   ],
   "source": [
    "#6. Write a NumPy program to compute the inner product of vectors for 1-D arrays (without complex conjugation) and in higher dimension.\n",
    "x = np.array([1, 0, 1, 1])\n",
    "y = np.array([3, 1, 2, 2])\n",
    "print(np.inner(x, y))\n",
    "\n",
    "x = np.array([[1, 0], [1, 1]])\n",
    "y = np.array([[3, 1], [2, 2]])\n",
    "print(np.inner(x, y))"
   ]
  },
  {
   "cell_type": "code",
   "execution_count": 49,
   "metadata": {},
   "outputs": [
    {
     "name": "stdout",
     "output_type": "stream",
     "text": [
      "[1. 1.] [[ 0.00000000e+00  2.22044605e-16]\n",
      " [ 1.00000000e+00 -1.00000000e+00]]\n"
     ]
    }
   ],
   "source": [
    "#7. Write a NumPy program to compute the eigenvalues and right eigenvectors of a given square array.\n",
    "x = np.array([[1, 0], [1, 1]])\n",
    "eigen_value, eigen_vector = np.linalg.eig(x)\n",
    "print(eigen_value, eigen_vector)"
   ]
  },
  {
   "cell_type": "code",
   "execution_count": 50,
   "metadata": {},
   "outputs": [
    {
     "name": "stdout",
     "output_type": "stream",
     "text": [
      "[[3 1 0 0]\n",
      " [2 2 0 0]\n",
      " [3 1 3 1]\n",
      " [2 2 2 2]]\n"
     ]
    }
   ],
   "source": [
    "#8. Write a NumPy program to compute the Kronecker product of two given mulitdimension arrays.\n",
    "x = np.array([[1, 0], [1, 1]])\n",
    "y = np.array([[3, 1], [2, 2]])\n",
    "print(np.kron(x, y))"
   ]
  },
  {
   "cell_type": "code",
   "execution_count": 51,
   "metadata": {},
   "outputs": [
    {
     "name": "stdout",
     "output_type": "stream",
     "text": [
      "2.6180339887498953\n"
     ]
    }
   ],
   "source": [
    "#9. Write a NumPy program to compute the condition number of a given matrix.\n",
    "x = np.array([[1, 0], [1, 1]])\n",
    "print(np.linalg.cond(x))"
   ]
  },
  {
   "cell_type": "code",
   "execution_count": 52,
   "metadata": {},
   "outputs": [
    {
     "name": "stdout",
     "output_type": "stream",
     "text": [
      "1.7320508075688772\n"
     ]
    }
   ],
   "source": [
    "#10. Write a NumPy program to find a matrix or vector norm.\n",
    "x = np.array([[1, 0], [1, 1]])\n",
    "print(np.linalg.norm(x))"
   ]
  },
  {
   "cell_type": "markdown",
   "metadata": {},
   "source": [
    "# NumPy Random"
   ]
  },
  {
   "cell_type": "code",
   "execution_count": 53,
   "metadata": {},
   "outputs": [
    {
     "name": "stdout",
     "output_type": "stream",
     "text": [
      "[ 0.04999553  1.22465902  0.26203726  1.35999674 -0.09730365]\n"
     ]
    }
   ],
   "source": [
    "#1. Write a NumPy program to generate five random numbers from the normal distribution.\n",
    "x = np.random.normal(size=5)\n",
    "print(x)"
   ]
  },
  {
   "cell_type": "code",
   "execution_count": 54,
   "metadata": {},
   "outputs": [
    {
     "name": "stdout",
     "output_type": "stream",
     "text": [
      "[16 21 27 25 20 24]\n"
     ]
    }
   ],
   "source": [
    "#2. Write a NumPy program to generate six random integers between 10 and 30.\n",
    "x = np.random.randint(10, 30, 6)\n",
    "print(x)"
   ]
  },
  {
   "cell_type": "code",
   "execution_count": 55,
   "metadata": {},
   "outputs": [
    {
     "name": "stdout",
     "output_type": "stream",
     "text": [
      "[[[0.78292907 0.50580316 0.75633168]\n",
      "  [0.9170815  0.89993226 0.99338981]\n",
      "  [0.66960093 0.24983725 0.60427207]]\n",
      "\n",
      " [[0.93608445 0.69948335 0.04179149]\n",
      "  [0.1317909  0.96620283 0.9871203 ]\n",
      "  [0.5595368  0.19154115 0.13979667]]\n",
      "\n",
      " [[0.19157161 0.06768368 0.71641248]\n",
      "  [0.35521965 0.46917845 0.77823828]\n",
      "  [0.72875997 0.52802199 0.14430988]]]\n"
     ]
    }
   ],
   "source": [
    "#3. Write a NumPy program to create a 3x3x3 array with random values.\n",
    "x = np.random.random((3, 3, 3))\n",
    "print(x)"
   ]
  },
  {
   "cell_type": "code",
   "execution_count": 56,
   "metadata": {},
   "outputs": [
    {
     "name": "stdout",
     "output_type": "stream",
     "text": [
      "[[0.31268002 0.28205623 0.72888023 0.26294569 0.50781936]\n",
      " [0.29347956 0.59014714 0.83151865 0.16895331 0.57572607]\n",
      " [0.00777566 0.48181489 0.02462627 0.07887757 0.27761238]\n",
      " [0.40875575 0.18227227 0.75981072 0.57030895 0.99570646]\n",
      " [0.49387725 0.79276184 0.49018254 0.16089096 0.48833299]]\n",
      "0.0077756604895363735 0.9957064553839822\n"
     ]
    }
   ],
   "source": [
    "#4. Write a NumPy program to create a 5x5 array with random values and find the minimum and maximum values.\n",
    "x = np.random.random((5, 5))\n",
    "min, max = np.min(x), np.max(x)\n",
    "print(x)\n",
    "print(min, max)"
   ]
  },
  {
   "cell_type": "code",
   "execution_count": 57,
   "metadata": {},
   "outputs": [
    {
     "name": "stdout",
     "output_type": "stream",
     "text": [
      "[[0.72005623 0.00198481 0.86121886 0.60089274]\n",
      " [0.88665922 0.81409768 0.16785842 0.65017137]\n",
      " [0.85775358 0.1285929  0.68838722 0.89848789]\n",
      " [0.0237154  0.50579323 0.88796386 0.56892   ]\n",
      " [0.3976445  0.06397373 0.92144101 0.63570056]\n",
      " [0.26283671 0.29653951 0.27270184 0.35799654]\n",
      " [0.92516114 0.39993487 0.36380817 0.07309963]\n",
      " [0.02887963 0.67589604 0.04160854 0.20321106]\n",
      " [0.56909875 0.44862639 0.95534359 0.47468432]\n",
      " [0.96476391 0.92454341 0.05830592 0.52529222]]\n",
      "[[0.26283671 0.29653951 0.27270184 0.35799654]\n",
      " [0.92516114 0.39993487 0.36380817 0.07309963]\n",
      " [0.02887963 0.67589604 0.04160854 0.20321106]\n",
      " [0.56909875 0.44862639 0.95534359 0.47468432]\n",
      " [0.96476391 0.92454341 0.05830592 0.52529222]]\n"
     ]
    }
   ],
   "source": [
    "#5. Write a NumPy program to create a random 10x4 array and extract the first five rows of the array and store them into a variable.\n",
    "x = np.random.random((10, 4))\n",
    "y = x[5:, :]\n",
    "print(x)\n",
    "print(y)"
   ]
  },
  {
   "cell_type": "code",
   "execution_count": 58,
   "metadata": {},
   "outputs": [
    {
     "name": "stdout",
     "output_type": "stream",
     "text": [
      "[6 1 8 0 3 9 4 5 7 2]\n"
     ]
    }
   ],
   "source": [
    "#6. Write a NumPy program to shuffle numbers between 0 and 10 (inclusive).\n",
    "x = np.arange(10)\n",
    "np.random.shuffle(x)\n",
    "print(x)"
   ]
  },
  {
   "cell_type": "code",
   "execution_count": 59,
   "metadata": {},
   "outputs": [
    {
     "name": "stdout",
     "output_type": "stream",
     "text": [
      "[[-1.5502188  -1.03211698 -0.77291893]\n",
      " [-1.3238979  -1.68807914 -1.28581792]\n",
      " [-0.78280354 -1.42589101 -0.95893312]]\n"
     ]
    }
   ],
   "source": [
    "#7. Write a NumPy program to normalize a 3x3 random matrix.\n",
    "x = np.random.random((3, 3))\n",
    "x = (x - np.mean(x) / np.std(x))\n",
    "print(x)"
   ]
  },
  {
   "cell_type": "code",
   "execution_count": 60,
   "metadata": {},
   "outputs": [
    {
     "name": "stdout",
     "output_type": "stream",
     "text": [
      "[0.16211092 0.18266324 0.24082854 0.24886121 0.41188398 0.43494663\n",
      " 0.50018721 0.53766671 0.70739807 0.86755742]\n"
     ]
    }
   ],
   "source": [
    "#8. Write a NumPy program to create a random vector of size 10 and sort it.\n",
    "x = np.random.random(10)\n",
    "x = np.sort(x)\n",
    "print(x)"
   ]
  },
  {
   "cell_type": "code",
   "execution_count": 61,
   "metadata": {},
   "outputs": [
    {
     "name": "stdout",
     "output_type": "stream",
     "text": [
      "[ 2.46046808  9.05324788 10.86081315  2.60298134  1.54859965]\n",
      "2.602981337169499\n"
     ]
    }
   ],
   "source": [
    "#9. Write a NumPy program to find the nearest value from a given value in an array.\n",
    "x = np.random.uniform(1, 12, 5)\n",
    "v = 5\n",
    "n = x.flat[np.abs(x - v).argmin()]\n",
    "print(x)\n",
    "print(n)"
   ]
  },
  {
   "cell_type": "code",
   "execution_count": 62,
   "metadata": {},
   "outputs": [
    {
     "name": "stdout",
     "output_type": "stream",
     "text": [
      "[0 0 0 0 1 0]\n",
      "[1 0 1 0 1 0]\n",
      "False\n"
     ]
    }
   ],
   "source": [
    "#10. Write a NumPy program to check two random arrays are equal or not.\n",
    "x = np.random.randint(0, 2, 6)\n",
    "y = np.random.randint(0, 2, 6)\n",
    "equal = np.allclose(x, y)\n",
    "print(x)\n",
    "print(y)\n",
    "print(equal)"
   ]
  },
  {
   "cell_type": "markdown",
   "metadata": {},
   "source": [
    "# NumPy Sorting and Searching"
   ]
  },
  {
   "cell_type": "code",
   "execution_count": 63,
   "metadata": {},
   "outputs": [
    {
     "name": "stdout",
     "output_type": "stream",
     "text": [
      "[[10 20]\n",
      " [30 40]]\n",
      "[[10 40]\n",
      " [20 30]]\n",
      "[10 20 30 40]\n"
     ]
    }
   ],
   "source": [
    "#1. Write a NumPy program to sort a given array of shape 2 along the first axis, last axis and on flattened array.\n",
    "x = np.array([[10, 40], [30, 20]])\n",
    "print(np.sort(x, axis=0))\n",
    "print(np.sort(x, axis=1))\n",
    "print(np.sort(x, axis=None))"
   ]
  },
  {
   "cell_type": "code",
   "execution_count": 64,
   "metadata": {},
   "outputs": [
    {
     "name": "stdout",
     "output_type": "stream",
     "text": [
      "[(b'Pit', 5, 40.11) (b'Paul', 5, 42.1 ) (b'James', 5, 48.5 )\n",
      " (b'Nail', 6, 52.5 )]\n"
     ]
    }
   ],
   "source": [
    "#2. Write a NumPy program to create a structured array from given student name, height, class and their data types. Now sort the array on height.\n",
    "data_type = [('name', 'S15'), ('class', int), ('height', float)]\n",
    "students_details = [(b'James', 5, 48.5 ), (b'Nail', 6, 52.5 ), (b'Paul', 5, 42.1 ),\n",
    "(b'Pit', 5, 40.11)]\n",
    "students = np.array(students_details, dtype=data_type)\n",
    "print(np.sort(students, order='height'))"
   ]
  },
  {
   "cell_type": "code",
   "execution_count": 65,
   "metadata": {},
   "outputs": [
    {
     "name": "stdout",
     "output_type": "stream",
     "text": [
      "[(b'Pit', 5, 40.11) (b'Paul', 5, 42.1 ) (b'James', 5, 48.5 )\n",
      " (b'Nail', 6, 52.5 )]\n"
     ]
    }
   ],
   "source": [
    "#3. Write a NumPy program to create a structured array from given student name, height, class and their data types. Now sort by class, then height if class are equal.\n",
    "data_type = [('name', 'S15'), ('class', int), ('height', float)]\n",
    "students_details = [(b'James', 5, 48.5 ), (b'Nail', 6, 52.5 ), (b'Paul', 5, 42.1 ),\n",
    "(b'Pit', 5, 40.11)]\n",
    "students = np.array(students_details, dtype=data_type)\n",
    "print(np.sort(students, order=['class', 'height']))"
   ]
  },
  {
   "cell_type": "code",
   "execution_count": 68,
   "metadata": {},
   "outputs": [
    {
     "name": "stdout",
     "output_type": "stream",
     "text": [
      "[4 0 5 3 6 1 2]\n",
      "1682 38.0\n",
      "1023 40.0\n",
      "5241 40.0\n",
      "1671 41.0\n",
      "4532 42.0\n",
      "5202 42.0\n",
      "6230 45.0\n"
     ]
    }
   ],
   "source": [
    "#4. Write a NumPy program to sort the student id with increasing height of the students from given students id and height. Print the integer indices that describes the sort order by multiple columns and the sorted data.\n",
    "student_id = np.array([1023, 5202, 6230, 1671, 1682, 5241, 4532])\n",
    "student_height = np.array([40., 42., 45., 41., 38., 40., 42.0])\n",
    "indices = np.lexsort((student_id, student_height))\n",
    "print(indices)\n",
    "for index in indices:\n",
    "    print(student_id[index], student_height[index])"
   ]
  },
  {
   "cell_type": "code",
   "execution_count": 69,
   "metadata": {},
   "outputs": [
    {
     "name": "stdout",
     "output_type": "stream",
     "text": [
      "[0 3 4 6 1 5 2]\n"
     ]
    }
   ],
   "source": [
    "#5. Write a NumPy program to get the indices of the sorted elements of a given array.\n",
    "x = np.array([1023, 5202, 6230, 1671, 1682, 5241, 4532])\n",
    "indices = np.argsort(x)\n",
    "print(indices)"
   ]
  },
  {
   "cell_type": "code",
   "execution_count": 70,
   "metadata": {},
   "outputs": [
    {
     "name": "stdout",
     "output_type": "stream",
     "text": [
      "[1.+2.j 3.-2.j 3.-1.j 3.+5.j 4.-3.j]\n"
     ]
    }
   ],
   "source": [
    "#6. Write a NumPy program to sort a given complex array using the real part first, then the imaginary part.\n",
    "x = np.array([1 + 2j, 3 - 1j, 3 - 2j, 4 - 3j, 3 + 5j])\n",
    "print(np.sort_complex(x))"
   ]
  },
  {
   "cell_type": "code",
   "execution_count": 71,
   "metadata": {},
   "outputs": [
    {
     "name": "stdout",
     "output_type": "stream",
     "text": [
      "[-11  30  20  40  50  50  60  70]\n"
     ]
    }
   ],
   "source": [
    "#7. Write a NumPy program to partition a given array in a specified position and move all the smaller elements values to the left of the partition, and the remaining values to the right, in arbitrary order (based on random choice).\n",
    "x = np.array([70, 50, 20, 30, -11, 60, 50, 40])\n",
    "print(np.partition(x, 4))"
   ]
  },
  {
   "cell_type": "code",
   "execution_count": 73,
   "metadata": {},
   "outputs": [
    {
     "name": "stdout",
     "output_type": "stream",
     "text": [
      "[0.12639943 0.07141002 0.01903912 0.19202573]\n"
     ]
    }
   ],
   "source": [
    "#8. Write a NumPy program to sort the specified number of elements from beginning of a given array.\n",
    "x = np.random.rand(10)\n",
    "print(np.partition(x, 4)[:4])"
   ]
  },
  {
   "cell_type": "code",
   "execution_count": 82,
   "metadata": {},
   "outputs": [
    {
     "name": "stdout",
     "output_type": "stream",
     "text": [
      "[[3 4 2]\n",
      " [6 5 9]\n",
      " [6 7 3]]\n"
     ]
    }
   ],
   "source": [
    "#9. Write a NumPy program to sort an given array by the nth column.\n",
    "x = np.random.randint(0, 10, (3, 3))\n",
    "print(x[x[:, 1].argsort()])"
   ]
  },
  {
   "cell_type": "markdown",
   "metadata": {},
   "source": [
    "# NumPy Mathematics"
   ]
  },
  {
   "cell_type": "code",
   "execution_count": 83,
   "metadata": {},
   "outputs": [
    {
     "name": "stdout",
     "output_type": "stream",
     "text": [
      "6.5\n",
      "3.5\n",
      "7.5\n",
      "3.3333333333333335\n"
     ]
    }
   ],
   "source": [
    "#1. Write a NumPy program to add, subtract, multiply, divide arguments element-wise.\n",
    "x = 5\n",
    "y = 1.5\n",
    "print(np.add(x, y))\n",
    "print(np.subtract(x, y))\n",
    "print(np.multiply(x, y))\n",
    "print(np.divide(x, y))"
   ]
  },
  {
   "cell_type": "code",
   "execution_count": 88,
   "metadata": {},
   "outputs": [
    {
     "name": "stdout",
     "output_type": "stream",
     "text": [
      "5.029750418272621\n",
      "5.122193416202275\n"
     ]
    }
   ],
   "source": [
    "#2. Write a NumPy program to compute logarithm of the sum of exponentiations of the inputs, sum of exponentiations of the inputs in base-2.\n",
    "x = 5\n",
    "y = 1.5\n",
    "print(np.logaddexp(x, y))\n",
    "print(np.logaddexp2(x, y))"
   ]
  },
  {
   "cell_type": "code",
   "execution_count": 87,
   "metadata": {},
   "outputs": [
    {
     "name": "stdout",
     "output_type": "stream",
     "text": [
      "[0 1 2 3 4 5 6 7 8 9]\n",
      "[0.  0.5 1.  1.5 2.  2.5 3.  3.5 4.  4.5]\n"
     ]
    }
   ],
   "source": [
    "#3. Write a NumPy program to get true division of the element-wise array inputs.\n",
    "x = np.arange(10)\n",
    "print(x)\n",
    "print(np.true_divide(x, 2))"
   ]
  },
  {
   "cell_type": "code",
   "execution_count": 90,
   "metadata": {},
   "outputs": [
    {
     "name": "stdout",
     "output_type": "stream",
     "text": [
      "[0 1 2 3 4 5 6 7 8 9]\n",
      "[0 0 1 1 2 2 3 3 4 4]\n"
     ]
    }
   ],
   "source": [
    "#4. Write a NumPy program to get the largest integer smaller or equal to the division of the inputs.\n",
    "x = np.arange(10)\n",
    "print(x)\n",
    "print(np.floor_divide(x, 2))"
   ]
  },
  {
   "cell_type": "code",
   "execution_count": 92,
   "metadata": {},
   "outputs": [
    {
     "name": "stdout",
     "output_type": "stream",
     "text": [
      "[0 1 2 3 4 5 6 7 8 9]\n",
      "[  0   1   8  27  64 125 216 343 512 729]\n"
     ]
    }
   ],
   "source": [
    "#5. Write a NumPy program to get the powers of an array values element-wise.\n",
    "x = np.arange(10)\n",
    "print(x)\n",
    "print(np.power(x, 3))"
   ]
  },
  {
   "cell_type": "code",
   "execution_count": 93,
   "metadata": {},
   "outputs": [
    {
     "name": "stdout",
     "output_type": "stream",
     "text": [
      "[0 1 2 3 4 5 6 7 8 9]\n",
      "[0 1 0 1 0 1 0 1 0 1]\n"
     ]
    }
   ],
   "source": [
    "#6. Write a NumPy program to get the element-wise remainder of an array of division.\n",
    "x = np.arange(10)\n",
    "print(x)\n",
    "print(np.remainder(x, 2))"
   ]
  },
  {
   "cell_type": "code",
   "execution_count": 94,
   "metadata": {},
   "outputs": [
    {
     "name": "stdout",
     "output_type": "stream",
     "text": [
      "[-10  -9  -8  -7  -6  -5  -4  -3  -2  -1]\n",
      "[10  9  8  7  6  5  4  3  2  1]\n"
     ]
    }
   ],
   "source": [
    "#7. Write a NumPy program to calculate the absolute value element-wise.\n",
    "x = np.arange(-10, 0)\n",
    "print(x)\n",
    "print(np.absolute(x))"
   ]
  },
  {
   "cell_type": "code",
   "execution_count": 95,
   "metadata": {},
   "outputs": [
    {
     "name": "stdout",
     "output_type": "stream",
     "text": [
      "[7.88347223 7.25567504 3.09405436 3.77238624 5.16879727 2.38384013\n",
      " 6.09464689 6.5528873  3.2948275  1.52489145]\n",
      "[7.88 7.26 3.09 3.77 5.17 2.38 6.09 6.55 3.29 1.52]\n"
     ]
    }
   ],
   "source": [
    "#8. Write a NumPy program to round array elements to the given number of decimals.\n",
    "x = np.random.uniform(0, 10, 10)\n",
    "print(x)\n",
    "print(np.round(x, 2))"
   ]
  },
  {
   "cell_type": "code",
   "execution_count": 96,
   "metadata": {},
   "outputs": [
    {
     "name": "stdout",
     "output_type": "stream",
     "text": [
      "[8.70773126 2.89355677 8.9187718  0.26995806 3.68972543 0.3551595\n",
      " 6.69381662 3.7176736  8.83766006 1.5294326 ]\n",
      "[9. 3. 9. 0. 4. 0. 7. 4. 9. 2.]\n"
     ]
    }
   ],
   "source": [
    "#9. Write a NumPy program to round elements of the array to the nearest integer.\n",
    "x = np.random.uniform(0, 10, 10)\n",
    "print(x)\n",
    "print(np.rint(x))"
   ]
  },
  {
   "cell_type": "code",
   "execution_count": 97,
   "metadata": {},
   "outputs": [
    {
     "name": "stdout",
     "output_type": "stream",
     "text": [
      "[8.80409223 9.95242579 7.49946118 9.56174741 1.61091866 7.52350031\n",
      " 1.11285471 9.0654099  2.95001228 3.25229682]\n",
      "[8. 9. 7. 9. 1. 7. 1. 9. 2. 3.]\n",
      "[ 9. 10.  8. 10.  2.  8.  2. 10.  3.  4.]\n",
      "[8. 9. 7. 9. 1. 7. 1. 9. 2. 3.]\n"
     ]
    }
   ],
   "source": [
    "#10. Write a NumPy program to get the floor, ceiling and truncated values of the elements of a numpy array.\n",
    "x = np.random.uniform(0, 10, 10)\n",
    "print(x)\n",
    "print(np.floor(x))\n",
    "print(np.ceil(x))\n",
    "print(np.trunc(x))"
   ]
  },
  {
   "cell_type": "markdown",
   "metadata": {},
   "source": [
    "# NumPy Statistics"
   ]
  },
  {
   "cell_type": "code",
   "execution_count": 99,
   "metadata": {},
   "outputs": [
    {
     "name": "stdout",
     "output_type": "stream",
     "text": [
      "[[0 1]\n",
      " [2 3]]\n",
      "0\n",
      "3\n"
     ]
    }
   ],
   "source": [
    "#1. Write a Python program to find the maximum and minimum value of a given flattened array.\n",
    "x = np.arange(4).reshape(2, 2)\n",
    "print(x)\n",
    "print(np.min(x))\n",
    "print(np.max(x))"
   ]
  },
  {
   "cell_type": "code",
   "execution_count": 103,
   "metadata": {},
   "outputs": [
    {
     "name": "stdout",
     "output_type": "stream",
     "text": [
      "[[0 1]\n",
      " [2 3]]\n",
      "[0 2]\n",
      "[1 3]\n"
     ]
    }
   ],
   "source": [
    "#2. Write a NumPy program to get the minimum and maximum value of a given array along the second axis.\n",
    "x = np.arange(4).reshape(2, 2)\n",
    "print(x)\n",
    "print(np.min(x, axis=1))\n",
    "print(np.max(x, axis=1))"
   ]
  },
  {
   "cell_type": "code",
   "execution_count": 109,
   "metadata": {},
   "outputs": [
    {
     "name": "stdout",
     "output_type": "stream",
     "text": [
      "[[ 1  2  3  4  5]\n",
      " [ 6  7  8  9 10]]\n",
      "[4 4]\n"
     ]
    }
   ],
   "source": [
    "#3. Write a NumPy program to calculate the difference between the maximum and the minimum values of a given array along the second axis.\n",
    "x = np.arange(1, 11).reshape(2, 5)\n",
    "print(x)\n",
    "print(np.ptp(x, 1))"
   ]
  },
  {
   "cell_type": "code",
   "execution_count": 114,
   "metadata": {},
   "outputs": [
    {
     "name": "stdout",
     "output_type": "stream",
     "text": [
      "[[ 1  2  3  4  5]\n",
      " [ 6  7  8  9 10]]\n",
      "[4.2 9.2]\n"
     ]
    }
   ],
   "source": [
    "#4. Write a NumPy program to compute the 80th percentile for all elements in a given array along the second axis.\n",
    "x = np.arange(1, 11).reshape(2, 5)\n",
    "print(x)\n",
    "print(np.percentile(x, 80, 1))"
   ]
  },
  {
   "cell_type": "code",
   "execution_count": 112,
   "metadata": {},
   "outputs": [
    {
     "name": "stdout",
     "output_type": "stream",
     "text": [
      "[ 1  2  3  4  5  6  7  8  9 10]\n",
      "5.5\n"
     ]
    }
   ],
   "source": [
    "#5. Write a NumPy program to compute the median of flattened given array.\n",
    "x = np.arange(1, 11)\n",
    "print(x)\n",
    "print(np.median(x))"
   ]
  },
  {
   "cell_type": "code",
   "execution_count": 121,
   "metadata": {},
   "outputs": [
    {
     "name": "stdout",
     "output_type": "stream",
     "text": [
      "2.6666666666666665\n"
     ]
    }
   ],
   "source": [
    "#6. Write a NumPy program to compute the weighted of a given array.\n",
    "x = np.arange(5)\n",
    "weights = np.arange(1, 6)\n",
    "print(np.average(x, weights=weights))"
   ]
  },
  {
   "cell_type": "code",
   "execution_count": 122,
   "metadata": {},
   "outputs": [
    {
     "name": "stdout",
     "output_type": "stream",
     "text": [
      "[[ 1  2  3  4  5]\n",
      " [ 6  7  8  9 10]]\n",
      "[3. 8.]\n",
      "[1.41421356 1.41421356]\n",
      "[2. 2.]\n"
     ]
    }
   ],
   "source": [
    "#7. Write a NumPy program to compute the mean, standard deviation, and variance of a given array along the second axis.\n",
    "x = np.arange(1, 11).reshape(2, 5)\n",
    "print(x)\n",
    "print(np.mean(x, 1))\n",
    "print(np.std(x, 1))\n",
    "print(np.var(x, 1))"
   ]
  },
  {
   "cell_type": "code",
   "execution_count": 123,
   "metadata": {},
   "outputs": [
    {
     "name": "stdout",
     "output_type": "stream",
     "text": [
      "[[ 1. -1.]\n",
      " [-1.  1.]]\n"
     ]
    }
   ],
   "source": [
    "#8. Write a NumPy program to compute the covariance matrix of two given arrays.\n",
    "x = np.array([0, 1, 2])\n",
    "y = np.array([2, 1, 0])\n",
    "print(np.cov(x, y))"
   ]
  },
  {
   "cell_type": "code",
   "execution_count": 125,
   "metadata": {},
   "outputs": [
    {
     "name": "stdout",
     "output_type": "stream",
     "text": [
      "[19]\n"
     ]
    }
   ],
   "source": [
    "#9. Write a NumPy program to compute cross-correlation of two given arrays.\n",
    "x = np.array([0, 1, 3])\n",
    "y = np.array([2, 4, 5])\n",
    "print(np.correlate(x, y))"
   ]
  },
  {
   "cell_type": "code",
   "execution_count": 126,
   "metadata": {},
   "outputs": [
    {
     "name": "stdout",
     "output_type": "stream",
     "text": [
      "[[1.         0.92857143]\n",
      " [0.92857143 1.        ]]\n"
     ]
    }
   ],
   "source": [
    "#10. Write a NumPy program to compute pearson product-moment correlation coefficients of two given arrays.\n",
    "x = np.array([0, 1, 3])\n",
    "y = np.array([2, 4, 5])\n",
    "print(np.corrcoef(x, y))"
   ]
  },
  {
   "cell_type": "markdown",
   "metadata": {},
   "source": [
    "# NumPy DateTime "
   ]
  },
  {
   "cell_type": "code",
   "execution_count": 134,
   "metadata": {},
   "outputs": [],
   "source": [
    "import datetime"
   ]
  },
  {
   "cell_type": "code",
   "execution_count": 127,
   "metadata": {},
   "outputs": [
    {
     "name": "stdout",
     "output_type": "stream",
     "text": [
      "['2017-03-01' '2017-03-02' '2017-03-03' '2017-03-04' '2017-03-05'\n",
      " '2017-03-06' '2017-03-07' '2017-03-08' '2017-03-09' '2017-03-10'\n",
      " '2017-03-11' '2017-03-12' '2017-03-13' '2017-03-14' '2017-03-15'\n",
      " '2017-03-16' '2017-03-17' '2017-03-18' '2017-03-19' '2017-03-20'\n",
      " '2017-03-21' '2017-03-22' '2017-03-23' '2017-03-24' '2017-03-25'\n",
      " '2017-03-26' '2017-03-27' '2017-03-28' '2017-03-29' '2017-03-30'\n",
      " '2017-03-31']\n"
     ]
    }
   ],
   "source": [
    "#1. Write a NumPy program to display all the dates for the month of March, 2017.\n",
    "print(np.arange('2017-03', '2017-04', dtype='datetime64[D]'))"
   ]
  },
  {
   "cell_type": "code",
   "execution_count": 128,
   "metadata": {},
   "outputs": [
    {
     "name": "stdout",
     "output_type": "stream",
     "text": [
      "2024-02-23 2024-02-24 2024-02-25\n"
     ]
    }
   ],
   "source": [
    "#2. Write a NumPy program to get the dates of yesterday, today and tomorrow.\n",
    "yesterday = np.datetime64('today', 'D') - np.timedelta64(1, 'D')\n",
    "today = np.datetime64('today', 'D')\n",
    "tomorrow = np.datetime64('today', 'D') + np.timedelta64(1, 'D')\n",
    "print(yesterday, today, tomorrow)"
   ]
  },
  {
   "cell_type": "code",
   "execution_count": 133,
   "metadata": {},
   "outputs": [
    {
     "name": "stdout",
     "output_type": "stream",
     "text": [
      "28 days\n"
     ]
    }
   ],
   "source": [
    "#3. Write a NumPy program to count the number of days of specific month.\n",
    "print(np.datetime64('3000-03', 'D') - np.datetime64('3000-02', 'D'))"
   ]
  },
  {
   "cell_type": "code",
   "execution_count": 135,
   "metadata": {},
   "outputs": [
    {
     "name": "stdout",
     "output_type": "stream",
     "text": [
      "[datetime.datetime(2000, 1, 1, 0, 0) datetime.datetime(2000, 1, 1, 1, 0)\n",
      " datetime.datetime(2000, 1, 1, 2, 0) datetime.datetime(2000, 1, 1, 3, 0)\n",
      " datetime.datetime(2000, 1, 1, 4, 0) datetime.datetime(2000, 1, 1, 5, 0)\n",
      " datetime.datetime(2000, 1, 1, 6, 0) datetime.datetime(2000, 1, 1, 7, 0)\n",
      " datetime.datetime(2000, 1, 1, 8, 0) datetime.datetime(2000, 1, 1, 9, 0)\n",
      " datetime.datetime(2000, 1, 1, 10, 0) datetime.datetime(2000, 1, 1, 11, 0)\n",
      " datetime.datetime(2000, 1, 1, 12, 0) datetime.datetime(2000, 1, 1, 13, 0)\n",
      " datetime.datetime(2000, 1, 1, 14, 0) datetime.datetime(2000, 1, 1, 15, 0)\n",
      " datetime.datetime(2000, 1, 1, 16, 0) datetime.datetime(2000, 1, 1, 17, 0)\n",
      " datetime.datetime(2000, 1, 1, 18, 0) datetime.datetime(2000, 1, 1, 19, 0)\n",
      " datetime.datetime(2000, 1, 1, 20, 0) datetime.datetime(2000, 1, 1, 21, 0)\n",
      " datetime.datetime(2000, 1, 1, 22, 0) datetime.datetime(2000, 1, 1, 23, 0)]\n"
     ]
    }
   ],
   "source": [
    "#4. Write a NumPy program to create 24 python datetime.datetime objects (single object for every hour), and then put it in a numpy array.\n",
    "start = datetime.datetime(2000, 1, 1)\n",
    "dt_array = np.array([start + datetime.timedelta(hours=i) for i in range(24)])\n",
    "print(dt_array)"
   ]
  },
  {
   "cell_type": "code",
   "execution_count": 136,
   "metadata": {},
   "outputs": [
    {
     "name": "stdout",
     "output_type": "stream",
     "text": [
      "2017-05-01\n"
     ]
    }
   ],
   "source": [
    "#5. Write a NumPy program to find the first Monday in May 2017.\n",
    "print(np.busday_offset('2017-05', 0, roll='forward', weekmask='Mon'))"
   ]
  },
  {
   "cell_type": "code",
   "execution_count": 137,
   "metadata": {},
   "outputs": [
    {
     "name": "stdout",
     "output_type": "stream",
     "text": [
      "23\n"
     ]
    }
   ],
   "source": [
    "#6. Write a NumPy program to find the number of weekdays in March 2017.\n",
    "print(np.busday_count('2017-03', '2017-04'))"
   ]
  },
  {
   "cell_type": "code",
   "execution_count": 138,
   "metadata": {},
   "outputs": [
    {
     "name": "stdout",
     "output_type": "stream",
     "text": [
      "1519596610.0\n"
     ]
    },
    {
     "name": "stderr",
     "output_type": "stream",
     "text": [
      "C:\\Users\\bdm2k\\AppData\\Local\\Temp\\ipykernel_23036\\2451610511.py:3: DeprecationWarning: parsing timezone aware datetimes is deprecated; this will raise an error in the future\n",
      "  ts = (dt64 - np.datetime64('1970-01-01T00:00:00Z')) / np.timedelta64(1, 's')\n"
     ]
    }
   ],
   "source": [
    "#7. Write a NumPy program to convert numpy datetime64 to Timestamp.\n",
    "dt64 = np.datetime64('2018-02-25 22:10:10')\n",
    "ts = (dt64 - np.datetime64('1970-01-01T00:00:00Z')) / np.timedelta64(1, 's')\n",
    "print(ts)"
   ]
  },
  {
   "cell_type": "markdown",
   "metadata": {},
   "source": [
    "# NumPy String"
   ]
  },
  {
   "cell_type": "code",
   "execution_count": 142,
   "metadata": {},
   "outputs": [
    {
     "name": "stdout",
     "output_type": "stream",
     "text": [
      "['Python Java' 'PHP C++']\n"
     ]
    }
   ],
   "source": [
    "#1. Write a NumPy program to concatenate element-wise two arrays of string.\n",
    "x = np.array(['Python', 'PHP'], dtype=str)\n",
    "y = np.array([' Java', ' C++'], dtype=str)\n",
    "print(np.char.add(x, y))"
   ]
  },
  {
   "cell_type": "code",
   "execution_count": 143,
   "metadata": {},
   "outputs": [
    {
     "name": "stdout",
     "output_type": "stream",
     "text": [
      "['PythonPythonPython' 'PHPPHPPHP' 'JavaJavaJava' 'C++C++C++']\n"
     ]
    }
   ],
   "source": [
    "#2. Write a NumPy program to repeat all the elements three times of a given array of string\n",
    "x = np.array(['Python', 'PHP', 'Java', 'C++'], dtype=str)\n",
    "print(np.char.multiply(x, 3))"
   ]
  },
  {
   "cell_type": "code",
   "execution_count": 144,
   "metadata": {},
   "outputs": [
    {
     "name": "stdout",
     "output_type": "stream",
     "text": [
      "['Python' 'Php' 'Java' 'C++']\n",
      "['python' 'php' 'java' 'c++']\n",
      "['PYTHON' 'PHP' 'JAVA' 'C++']\n",
      "['PYTHON' 'php' 'JAVA' 'c++']\n",
      "['Python' 'Php' 'Java' 'C++']\n"
     ]
    }
   ],
   "source": [
    "#3. Write a NumPy program to capitalize the first letter, lowercase, uppercase, swapcase, title-case of all the elements of a given array.\n",
    "x = np.array(['python', 'PHP', 'java', 'C++'], dtype=str)\n",
    "print(np.char.capitalize(x))\n",
    "print(np.char.lower(x))\n",
    "print(np.char.upper(x))\n",
    "print(np.char.swapcase(x))\n",
    "print(np.char.title(x))"
   ]
  },
  {
   "cell_type": "code",
   "execution_count": 145,
   "metadata": {},
   "outputs": [
    {
     "name": "stdout",
     "output_type": "stream",
     "text": [
      "['_____python____' '______PHP______' '______java_____' '______C++______']\n",
      "['python_________' 'PHP____________' 'java___________' 'C++____________']\n",
      "['_________python' '____________PHP' '___________java' '____________C++']\n"
     ]
    }
   ],
   "source": [
    "#4. Write a NumPy program to make the length of each element 15 of a given array and the string centered / left-justified / right-justified with paddings of _.\n",
    "x = np.array(['python', 'PHP', 'java', 'C++'], dtype=str)\n",
    "print(np.char.center(x, 15, fillchar='_'))\n",
    "print(np.char.ljust(x, 15, fillchar='_'))\n",
    "print(np.char.rjust(x, 15, fillchar='_'))"
   ]
  },
  {
   "cell_type": "code",
   "execution_count": 146,
   "metadata": {},
   "outputs": [
    {
     "name": "stdout",
     "output_type": "stream",
     "text": [
      "['p y t h o n' 'P H P' 'j a v a' 'C + +']\n"
     ]
    }
   ],
   "source": [
    "#5. Write a NumPy program to insert a space between characters of all the elements of a given array.\n",
    "x = np.array(['python', 'PHP', 'java', 'C++'], dtype=str)\n",
    "print(np.char.join(' ', x))"
   ]
  },
  {
   "cell_type": "code",
   "execution_count": 147,
   "metadata": {},
   "outputs": [
    {
     "name": "stdout",
     "output_type": "stream",
     "text": [
      "[b'\\x97\\xa8\\xa3\\x88\\x96\\x95' b'\\xd7\\xc8\\xd7' b'\\x91\\x81\\xa5\\x81' b'\\xc3NN']\n",
      "['python' 'PHP' 'java' 'C++']\n"
     ]
    }
   ],
   "source": [
    "#6. Write a NumPy program to encode all the elements of a given array in cp500 and decode it again.\n",
    "x = np.array(['python', 'PHP', 'java', 'C++'], dtype=str)\n",
    "print(np.char.encode(x, 'cp500'))\n",
    "print(np.char.decode(np.char.encode(x, 'cp500'), 'cp500'))"
   ]
  },
  {
   "cell_type": "code",
   "execution_count": 150,
   "metadata": {},
   "outputs": [
    {
     "name": "stdout",
     "output_type": "stream",
     "text": [
      "['python' 'PHP' 'java' 'C++']\n"
     ]
    }
   ],
   "source": [
    "#7. Write a NumPy program to remove the leading and trailing whitespaces of all the elements of a given array.\n",
    "x = np.array([' python ', ' PHP ', ' java ', ' C++ '], dtype=str)\n",
    "print(np.char.strip(x))"
   ]
  },
  {
   "cell_type": "code",
   "execution_count": 151,
   "metadata": {},
   "outputs": [
    {
     "name": "stdout",
     "output_type": "stream",
     "text": [
      "['python ' 'PHP ' 'java ' 'C++ ']\n"
     ]
    }
   ],
   "source": [
    "#8. Write a NumPy program to remove the leading whitespaces of all the elements of a given array.\n",
    "x = np.array([' python ', ' PHP ', ' java ', ' C++ '], dtype=str)\n",
    "print(np.char.lstrip(x))"
   ]
  },
  {
   "cell_type": "code",
   "execution_count": 152,
   "metadata": {},
   "outputs": [
    {
     "name": "stdout",
     "output_type": "stream",
     "text": [
      "[' python' ' PHP' ' java' ' C++']\n"
     ]
    }
   ],
   "source": [
    "#9. Write a NumPy program to remove the trailing whitespaces of all the elements of a given array.\n",
    "x = np.array([' python ', ' PHP ', ' java ', ' C++ '], dtype=str)\n",
    "print(np.char.rstrip(x))"
   ]
  },
  {
   "cell_type": "code",
   "execution_count": 153,
   "metadata": {},
   "outputs": [
    {
     "name": "stdout",
     "output_type": "stream",
     "text": [
      "[list(['Python', 'PHP', 'Java', 'C++'])]\n"
     ]
    }
   ],
   "source": [
    "#10. Write a NumPy program to split the element of a given array with spaces.\n",
    "x = np.array(['Python PHP Java C++'], dtype=str)\n",
    "print(np.char.split(x))"
   ]
  },
  {
   "cell_type": "markdown",
   "metadata": {},
   "source": [
    "# Advanced NumPy Exercises"
   ]
  },
  {
   "cell_type": "code",
   "execution_count": 157,
   "metadata": {},
   "outputs": [
    {
     "name": "stdout",
     "output_type": "stream",
     "text": [
      "[14 32 50]\n"
     ]
    }
   ],
   "source": [
    "#1. Write a NumPy program to find the dot product of two arrays of different dimensions.\n",
    "x = np.array([[1, 2], [3, 4], [5, 6]])\n",
    "y = np.array([4, 5])\n",
    "print(np.dot(x, y))"
   ]
  },
  {
   "cell_type": "code",
   "execution_count": 161,
   "metadata": {},
   "outputs": [
    {
     "name": "stdout",
     "output_type": "stream",
     "text": [
      "[[1. 0. 0.]\n",
      " [0. 1. 0.]\n",
      " [0. 0. 1.]]\n",
      "[[1. 0. 0.]\n",
      " [0. 1. 0.]\n",
      " [0. 0. 1.]\n",
      " [1. 0. 0.]\n",
      " [0. 1. 0.]\n",
      " [0. 0. 1.]\n",
      " [1. 0. 0.]\n",
      " [0. 1. 0.]\n",
      " [0. 0. 1.]]\n",
      "[[1. 0. 0. 1. 0. 0. 1. 0. 0.]\n",
      " [0. 1. 0. 0. 1. 0. 0. 1. 0.]\n",
      " [0. 0. 1. 0. 0. 1. 0. 0. 1.]]\n"
     ]
    }
   ],
   "source": [
    "#2. Write a NumPy program to create a 3x3 identity matrix and stack it vertically and horizontally.\n",
    "x = np.identity(3)\n",
    "print(x)\n",
    "print(np.vstack((x, x, x)))\n",
    "print(np.hstack((x, x, x)))"
   ]
  },
  {
   "cell_type": "code",
   "execution_count": 164,
   "metadata": {},
   "outputs": [
    {
     "name": "stdout",
     "output_type": "stream",
     "text": [
      "[[0.5321192  0.54821139 0.93953764 0.29415192]\n",
      " [0.61398708 0.4287171  0.57932102 0.9734945 ]\n",
      " [0.27299375 0.26177223 0.53564626 0.30704772]\n",
      " [0.96400916 0.62796439 0.8032034  0.47197322]]\n",
      "[2.31402015 2.5955197  1.37745997 2.86715017]\n"
     ]
    }
   ],
   "source": [
    "#3. Write a NumPy program to create a 4x4 array with random values and find the sum of each row.\n",
    "x = np.random.rand(4, 4)\n",
    "print(x)\n",
    "print(x.sum(axis=1))"
   ]
  },
  {
   "cell_type": "code",
   "execution_count": 166,
   "metadata": {},
   "outputs": [
    {
     "name": "stdout",
     "output_type": "stream",
     "text": [
      "[[0.22978662 0.50530855 0.60684867]\n",
      " [0.82505159 0.90114247 0.09665675]\n",
      " [0.59044053 0.9999594  0.65123583]]\n",
      "[[-0.21752799  0.05799394  0.15953406]\n",
      " [ 0.21743465  0.29352553 -0.51096019]\n",
      " [-0.15677139  0.25274748 -0.09597609]]\n"
     ]
    }
   ],
   "source": [
    "#4. Write a NumPy program to create a 3x3 array with random values and subtract the mean of each row from each element.\n",
    "x = np.random.rand(3, 3)\n",
    "print(x)\n",
    "print(x - x.mean(axis=1, keepdims=True))"
   ]
  },
  {
   "cell_type": "code",
   "execution_count": 167,
   "metadata": {},
   "outputs": [
    {
     "name": "stdout",
     "output_type": "stream",
     "text": [
      "[[0.37956113 0.59012376 0.48601038]\n",
      " [0.58491392 0.19917524 0.81714065]\n",
      " [0.55475788 0.2348042  0.45747782]]\n",
      "[[-0.12684985  0.24875603 -0.1008659 ]\n",
      " [ 0.07850294 -0.1421925   0.23026436]\n",
      " [ 0.0483469  -0.10656354 -0.12939846]]\n"
     ]
    }
   ],
   "source": [
    "#5. Write a NumPy program to create a 3x3 array with random values and subtract the mean of each column from each element.\n",
    "x = np.random.rand(3, 3)\n",
    "print(x)\n",
    "print(x - x.mean(axis=0, keepdims=True))"
   ]
  },
  {
   "cell_type": "code",
   "execution_count": 177,
   "metadata": {},
   "outputs": [
    {
     "name": "stdout",
     "output_type": "stream",
     "text": [
      "[[0.43695397 0.16043243 0.48525188 0.10554784 0.33944198]\n",
      " [0.74416334 0.51324255 0.78279674 0.05966002 0.84850574]\n",
      " [0.57337558 0.57986057 0.13228799 0.3476992  0.49506267]\n",
      " [0.77394358 0.03820804 0.37270725 0.72719675 0.90857877]\n",
      " [0.96935729 0.92620286 0.68032109 0.27235203 0.85366218]]\n",
      "[[-1.60653879 -1.88656739 -2.03559788 -1.67394538 -2.57602005]\n",
      " [-1.29932942 -1.53375727 -1.73805303 -1.7198332  -2.06695629]\n",
      " [-1.47011718 -1.46713925 -2.38856178 -1.43179402 -2.42039937]\n",
      " [-1.26954918 -2.00879178 -2.14814251 -1.05229647 -2.00688326]\n",
      " [-1.07413548 -1.12079696 -1.84052868 -1.50714119 -2.06179985]]\n"
     ]
    }
   ],
   "source": [
    "#6. Write a NumPy program to create a 5x5 array with random values and normalize it row-wise.\n",
    "x = np.random.rand(5, 5)\n",
    "print(x)\n",
    "print(x - np.mean(x, axis=1) / np.std(x, axis=1))"
   ]
  },
  {
   "cell_type": "code",
   "execution_count": 172,
   "metadata": {},
   "outputs": [
    {
     "name": "stdout",
     "output_type": "stream",
     "text": [
      "[[0.6320455  0.56862856 0.4448491  0.29529761 0.09227731]\n",
      " [0.91655052 0.63417126 0.14540204 0.63947813 0.66046277]\n",
      " [0.77179346 0.51593772 0.3315866  0.16119035 0.63479788]\n",
      " [0.72231159 0.40440618 0.80509699 0.91570461 0.9166398 ]\n",
      " [0.75311385 0.00540622 0.63455378 0.00718531 0.98656661]]\n",
      "[[-7.60379942 -1.3385182  -1.60863387 -0.92710042 -1.99853437]\n",
      " [-7.31929441 -1.2729755  -1.90808093 -0.5829199  -1.43034891]\n",
      " [-7.46405146 -1.39120904 -1.72189636 -1.06120768 -1.4560138 ]\n",
      " [-7.51353333 -1.50274057 -1.24838597 -0.30669342 -1.17417189]\n",
      " [-7.48273108 -1.90174053 -1.41892919 -1.21521272 -1.10424507]]\n"
     ]
    }
   ],
   "source": [
    "#7. Write a NumPy program to create a 5x5 array with random values and normalize it column-wise.\n",
    "x = np.random.rand(5, 5)\n",
    "print(x)\n",
    "print(x - np.mean(x, axis=0) / np.std(x, axis=0))"
   ]
  },
  {
   "cell_type": "code",
   "execution_count": 178,
   "metadata": {},
   "outputs": [
    {
     "name": "stdout",
     "output_type": "stream",
     "text": [
      "[[[0.13254635 0.46942967 0.9865747 ]\n",
      "  [0.35151635 0.76021194 0.07852636]\n",
      "  [0.55031517 0.56759247 0.01830477]]\n",
      "\n",
      " [[0.31903367 0.19971885 0.33708258]\n",
      "  [0.62283782 0.02066311 0.81310629]\n",
      "  [0.66107749 0.79565094 0.85153272]]\n",
      "\n",
      " [[0.77522971 0.66638135 0.13138806]\n",
      "  [0.10410894 0.42066402 0.54367866]\n",
      "  [0.37703285 0.41090276 0.61098017]]]\n",
      "[[1.58855072 1.19025464 1.1362124 ]\n",
      " [0.8558351  1.45660722 2.30826115]\n",
      " [1.57299912 1.06845162 1.39891579]]\n"
     ]
    }
   ],
   "source": [
    "#8. Write a NumPy program to create a 3x3x3 array with random values and find the sum along the last axis.\n",
    "x = np.random.rand(3, 3, 3)\n",
    "print(x)\n",
    "print(x.sum(axis=-1))"
   ]
  },
  {
   "cell_type": "code",
   "execution_count": 179,
   "metadata": {},
   "outputs": [
    {
     "name": "stdout",
     "output_type": "stream",
     "text": [
      "[[0.53987866 0.48271576 0.41589943 0.01494049 0.15147009]\n",
      " [0.61336336 0.51426836 0.28440275 0.26378173 0.35106525]\n",
      " [0.0788042  0.33382824 0.26173166 0.89996379 0.88148152]\n",
      " [0.58938837 0.24836479 0.28963009 0.17354006 0.8870924 ]\n",
      " [0.72303945 0.85394706 0.10338035 0.59223851 0.18994857]]\n",
      "[[0.01494049 0.15147009 0.41589943 0.48271576 0.53987866]\n",
      " [0.26378173 0.28440275 0.35106525 0.51426836 0.61336336]\n",
      " [0.0788042  0.26173166 0.33382824 0.88148152 0.89996379]\n",
      " [0.17354006 0.24836479 0.28963009 0.58938837 0.8870924 ]\n",
      " [0.10338035 0.18994857 0.59223851 0.72303945 0.85394706]]\n"
     ]
    }
   ],
   "source": [
    "#9. Write a NumPy program to create a 5x5 array with random values and sort each row.\n",
    "x = np.random.rand(5, 5)\n",
    "print(x)\n",
    "print(np.sort(x, axis=1))"
   ]
  },
  {
   "cell_type": "code",
   "execution_count": 181,
   "metadata": {},
   "outputs": [
    {
     "name": "stdout",
     "output_type": "stream",
     "text": [
      "[[0.34829382 0.30323787 0.03231732 0.00863437 0.57805889]\n",
      " [0.82866682 0.69006739 0.46545024 0.05178934 0.72910236]\n",
      " [0.85692965 0.64848834 0.6993687  0.03213435 0.98468614]\n",
      " [0.87140634 0.75162425 0.30539928 0.85598173 0.83409005]\n",
      " [0.12604186 0.24503164 0.46489867 0.02188391 0.01895637]]\n",
      "[[0.12604186 0.24503164 0.03231732 0.00863437 0.01895637]\n",
      " [0.34829382 0.30323787 0.30539928 0.02188391 0.57805889]\n",
      " [0.82866682 0.64848834 0.46489867 0.03213435 0.72910236]\n",
      " [0.85692965 0.69006739 0.46545024 0.05178934 0.83409005]\n",
      " [0.87140634 0.75162425 0.6993687  0.85598173 0.98468614]]\n"
     ]
    }
   ],
   "source": [
    "#10. Write a NumPy program to create a 5x5 array with random values and sort each column.\n",
    "x = np.random.rand(5, 5)\n",
    "print(x)\n",
    "print(np.sort(x, axis=0))"
   ]
  },
  {
   "cell_type": "code",
   "execution_count": 182,
   "metadata": {},
   "outputs": [
    {
     "name": "stdout",
     "output_type": "stream",
     "text": [
      "[[0.49464414 0.63235138 0.15372151 0.517275   0.01701557]\n",
      " [0.6344592  0.14664209 0.78700297 0.52291734 0.09458724]\n",
      " [0.47765036 0.79210703 0.84343732 0.10066647 0.34910036]\n",
      " [0.25678455 0.52687556 0.67877213 0.72871387 0.29496257]\n",
      " [0.71337686 0.02635807 0.41787266 0.13081281 0.47513048]]\n",
      "[0.517275   0.6344592  0.79210703 0.67877213 0.47513048]\n"
     ]
    }
   ],
   "source": [
    "#11. Write a NumPy program to create a 5x5 array with random values and find the second-largest value in each row.\n",
    "x = np.random.rand(5, 5)\n",
    "print(x)\n",
    "print(np.sort(x, axis=1)[:, -2])"
   ]
  },
  {
   "cell_type": "code",
   "execution_count": 183,
   "metadata": {},
   "outputs": [
    {
     "name": "stdout",
     "output_type": "stream",
     "text": [
      "[[0.05305563 0.22814144 0.47909262 0.92414641 0.04753684]\n",
      " [0.22247183 0.74892613 0.35125782 0.37827198 0.37340916]\n",
      " [0.6716982  0.79385889 0.7882098  0.95054618 0.19236045]\n",
      " [0.63382497 0.82974618 0.83092288 0.1096405  0.07400546]\n",
      " [0.23226237 0.83350093 0.9479658  0.9387866  0.25453734]]\n",
      "[0.63382497 0.82974618 0.83092288 0.9387866  0.25453734]\n"
     ]
    }
   ],
   "source": [
    "#12. Write a NumPy program to create a 5x5 array with random values and find the second-largest value in each column.\n",
    "x = np.random.rand(5, 5)\n",
    "print(x)\n",
    "print(np.sort(x, axis=0)[-2])"
   ]
  },
  {
   "cell_type": "code",
   "execution_count": 187,
   "metadata": {},
   "outputs": [
    {
     "name": "stdout",
     "output_type": "stream",
     "text": [
      "[[0.67227972 0.85642894 0.26283011 0.56124488 0.23005323]\n",
      " [0.78620018 0.89616089 0.89757266 0.12952158 0.07013815]\n",
      " [0.30753622 0.43372788 0.98159467 0.6394077  0.52654168]\n",
      " [0.14465163 0.76680405 0.53077026 0.15154698 0.00647437]\n",
      " [0.50211092 0.44789246 0.36099958 0.84771736 0.4205342 ]]\n",
      "[[0.67227972 0.85642894 0.26283011 0.56124488 0.23005323]\n",
      " [0.78620018 0.89616089 0.89757266 0.12952158 0.07013815]\n",
      " [0.30753622 0.43372788 0.         0.6394077  0.52654168]\n",
      " [0.14465163 0.76680405 0.53077026 0.15154698 0.00647437]\n",
      " [0.50211092 0.44789246 0.36099958 0.84771736 0.4205342 ]]\n",
      "7\n"
     ]
    }
   ],
   "source": [
    "#13. Write a NumPy program to create a 5x5 array with random values and replace the maximum value with 0.\n",
    "x = np.random.rand(5, 5)\n",
    "print(x)\n",
    "x[x == np.max(x)] = 0\n",
    "print(x)\n"
   ]
  },
  {
   "cell_type": "code",
   "execution_count": 188,
   "metadata": {},
   "outputs": [
    {
     "name": "stdout",
     "output_type": "stream",
     "text": [
      "[[0.56841606 0.59420355 0.1131246  0.80995004 0.0645489 ]\n",
      " [0.42988253 0.84005164 0.9174391  0.27560031 0.98079316]\n",
      " [0.02661907 0.80419258 0.97111019 0.87609515 0.60041596]\n",
      " [0.02719278 0.95672321 0.32504622 0.06746441 0.57232496]\n",
      " [0.38074536 0.33656937 0.04767692 0.87230425 0.56941433]]\n",
      "[[0.56841606 0.59420355 0.1131246  0.80995004 0.0645489 ]\n",
      " [0.42988253 0.84005164 0.9174391  0.27560031 0.98079316]\n",
      " [0.         0.80419258 0.97111019 0.87609515 0.60041596]\n",
      " [0.02719278 0.95672321 0.32504622 0.06746441 0.57232496]\n",
      " [0.38074536 0.33656937 0.04767692 0.87230425 0.56941433]]\n"
     ]
    }
   ],
   "source": [
    "#14. Write a NumPy program to create a 5x5 array with random values and replace the minimum value with 0.\n",
    "x = np.random.rand(5, 5)\n",
    "print(x)\n",
    "x[x == np.min(x)] = 0\n",
    "print(x)"
   ]
  },
  {
   "cell_type": "code",
   "execution_count": 189,
   "metadata": {},
   "outputs": [
    {
     "name": "stdout",
     "output_type": "stream",
     "text": [
      "[[0.89915554 0.23032447 0.23429074 0.29476938 0.69846734]\n",
      " [0.20715376 0.47270146 0.43717333 0.48484669 0.07796991]\n",
      " [0.53429055 0.01789663 0.82620745 0.33615436 0.13256757]\n",
      " [0.22349947 0.82803772 0.20853935 0.64864712 0.2054966 ]\n",
      " [0.14544537 0.1873947  0.40780712 0.53340542 0.03791088]]\n",
      "[[2.45752695 1.25900846 1.26401194 1.34281664 2.01066867]\n",
      " [1.23017171 1.60432236 1.54832443 1.62392602 1.08109013]\n",
      " [1.70623732 1.01805773 2.28463768 1.39955504 1.14175617]\n",
      " [1.25044497 2.28882302 1.23187741 1.91295108 1.2281348 ]\n",
      " [1.15655456 1.20610324 1.50351713 1.70472774 1.03863866]]\n"
     ]
    }
   ],
   "source": [
    "#15. Write a NumPy program to create a 5x5 array with random values and calculate the exponential of each element.\n",
    "x = np.random.rand(5, 5)\n",
    "print(x)\n",
    "print(np.exp(x))"
   ]
  },
  {
   "cell_type": "code",
   "execution_count": null,
   "metadata": {},
   "outputs": [],
   "source": []
  }
 ],
 "metadata": {
  "kernelspec": {
   "display_name": "Python 3",
   "language": "python",
   "name": "python3"
  },
  "language_info": {
   "codemirror_mode": {
    "name": "ipython",
    "version": 3
   },
   "file_extension": ".py",
   "mimetype": "text/x-python",
   "name": "python",
   "nbconvert_exporter": "python",
   "pygments_lexer": "ipython3",
   "version": "3.10.10"
  }
 },
 "nbformat": 4,
 "nbformat_minor": 2
}
